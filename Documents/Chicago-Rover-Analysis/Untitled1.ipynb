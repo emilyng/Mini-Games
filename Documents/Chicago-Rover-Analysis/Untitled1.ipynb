{
 "cells": [
  {
   "cell_type": "code",
   "execution_count": 1,
   "metadata": {
    "ExecuteTime": {
     "end_time": "2021-01-10T02:09:38.422922Z",
     "start_time": "2021-01-10T02:09:36.909621Z"
    }
   },
   "outputs": [],
   "source": [
    "import matplotlib.pyplot as plt\n",
    "import pandas as pd\n",
    "import numpy as np\n",
    "from selenium import webdriver\n",
    "from selenium.webdriver.common.keys import Keys\n",
    "from bs4 import BeautifulSoup\n",
    "import requests\n",
    "import time, os"
   ]
  },
  {
   "cell_type": "code",
   "execution_count": 2,
   "metadata": {
    "ExecuteTime": {
     "end_time": "2021-01-10T02:09:39.137083Z",
     "start_time": "2021-01-10T02:09:39.133926Z"
    }
   },
   "outputs": [],
   "source": [
    "chromedriver = \"/Applications/chromedriver\" # path to the chromedriver executable\n",
    "os.environ[\"webdriver.chrome.driver\"] = chromedriver"
   ]
  },
  {
   "cell_type": "code",
   "execution_count": 193,
   "metadata": {
    "ExecuteTime": {
     "end_time": "2021-01-10T06:13:02.483731Z",
     "start_time": "2021-01-10T06:12:55.893436Z"
    }
   },
   "outputs": [],
   "source": [
    "url = \"https://www.rover.com/search/?alternate_results=true&override_check=true&accepts_only_one_client=false&apse=false&bathing_grooming=false&cat_care=false&centerlat=41.804000&centerlng=-87.707000&dogs_allowed_on_bed=false&dogs_allowed_on_furniture=false&frequency=onetime&fulltime_availability=true&giant_dogs=false&has_fenced_yard=false&has_house=false&has_no_children=false&is_premier=false&knows_first_aid=false&large_dogs=false&location=60632&location_accuracy=5161&maxprice=150&medium_dogs=false&minprice=0&no_caged_pets=false&no_cats=false&no_children_0_5=false&no_children_6_12=false&non_smoking=false&page=1&person_does_not_have_dogs=false&pet=&petsitusa=false&pet_type=dog&puppy=false&service_type=dog-walking&small_dogs=false&volunteer_donor=false&search_score_debug=false&injected_medication=false&special_needs=false&oral_medication=false&more_than_one_client=false&uncrated_dogs=false&unspayed_females=false&non_neutered_males=false&females_in_heat=false&unactivated_provider=false&premier_matching=false&premier_or_rover_match=false&is_member_of_sitter_to_sitter=false&is_member_of_sitter_to_sitter_plus=false&location_type=geoip&midday_availability=true\"\n",
    "driver = webdriver.Chrome(chromedriver)\n",
    "driver.get(url)\n",
    "time.sleep(0.5)"
   ]
  },
  {
   "cell_type": "code",
   "execution_count": 194,
   "metadata": {
    "ExecuteTime": {
     "end_time": "2021-01-10T06:13:10.991819Z",
     "start_time": "2021-01-10T06:13:10.790403Z"
    }
   },
   "outputs": [],
   "source": [
    "driver.find_element_by_xpath('//*[@id=\"base-content\"]/div[1]/div/div/div[2]/div[3]/button').click()\n",
    "location_box = driver.find_element_by_xpath('//*[@id=\"base-content\"]/div[1]/div/div/div[2]/div[3]/button').click()"
   ]
  },
  {
   "cell_type": "code",
   "execution_count": 195,
   "metadata": {
    "ExecuteTime": {
     "end_time": "2021-01-10T06:14:23.224784Z",
     "start_time": "2021-01-10T06:13:13.743907Z"
    }
   },
   "outputs": [],
   "source": [
    "profile_links = []\n",
    "names = []\n",
    "locations = []\n",
    "\n",
    "for page in range(50):\n",
    "    soup = BeautifulSoup(driver.page_source)\n",
    "    #getting profile links\n",
    "    result_cards = soup.find_all('a', class_=\"SearchResultCard__MemberProfileAnchor-sc-69cmvm-0 jmSVjX\")\n",
    "    profile_links.append([card.get('href') for card in result_cards])\n",
    "    #getting names\n",
    "    name_cards = soup.find_all('a', class_='NameRow__NameLink-w16h4v-2 ddRlnv')\n",
    "    names.append([card.text for card in name_cards])\n",
    "    #getting location info\n",
    "    info_cols = soup.find_all('span', class_=\"InfoColumn__Location-sc-9o301b-2 gjcFLl\")\n",
    "    locations.append([card.text for card in info_cols])\n",
    "    time.sleep(0.5)\n",
    "    #click next page\n",
    "    try:\n",
    "        driver.find_element_by_xpath('//*[@id=\"base-content\"]/div[2]/div/ul/li[6]').click()\n",
    "    except:\n",
    "        pass\n",
    "    try:\n",
    "        driver.find_element_by_xpath('//*[@id=\"base-content\"]/div[2]/div/ul/li[5]').click()\n",
    "    except:\n",
    "        pass\n",
    "    time.sleep(0.5)"
   ]
  },
  {
   "cell_type": "code",
   "execution_count": 197,
   "metadata": {
    "ExecuteTime": {
     "end_time": "2021-01-10T06:14:57.724371Z",
     "start_time": "2021-01-10T06:14:57.719807Z"
    }
   },
   "outputs": [
    {
     "data": {
      "text/plain": [
       "50"
      ]
     },
     "execution_count": 197,
     "metadata": {},
     "output_type": "execute_result"
    }
   ],
   "source": [
    "len(profile_links)"
   ]
  },
  {
   "cell_type": "code",
   "execution_count": 201,
   "metadata": {
    "ExecuteTime": {
     "end_time": "2021-01-10T06:22:41.222553Z",
     "start_time": "2021-01-10T06:22:41.215152Z"
    }
   },
   "outputs": [],
   "source": [
    "flat_profile_links = [link for sublist in profile_links for link in sublist]\n",
    "flat_names = [name for sublist in names for name in sublist]\n",
    "flat_locations = [location for sublist in locations for location in sublist]"
   ]
  },
  {
   "cell_type": "code",
   "execution_count": 210,
   "metadata": {
    "ExecuteTime": {
     "end_time": "2021-01-10T06:39:39.505462Z",
     "start_time": "2021-01-10T06:39:39.478548Z"
    }
   },
   "outputs": [
    {
     "data": {
      "text/html": [
       "<div>\n",
       "<style scoped>\n",
       "    .dataframe tbody tr th:only-of-type {\n",
       "        vertical-align: middle;\n",
       "    }\n",
       "\n",
       "    .dataframe tbody tr th {\n",
       "        vertical-align: top;\n",
       "    }\n",
       "\n",
       "    .dataframe thead th {\n",
       "        text-align: right;\n",
       "    }\n",
       "</style>\n",
       "<table border=\"1\" class=\"dataframe\">\n",
       "  <thead>\n",
       "    <tr style=\"text-align: right;\">\n",
       "      <th></th>\n",
       "      <th>Name</th>\n",
       "      <th>Location</th>\n",
       "      <th>Link</th>\n",
       "    </tr>\n",
       "  </thead>\n",
       "  <tbody>\n",
       "    <tr>\n",
       "      <th>0</th>\n",
       "      <td>Christian</td>\n",
       "      <td>Lower West Side, Chicago, IL, 60608</td>\n",
       "      <td>https://www.rover.com/members/christian-b-id-l...</td>\n",
       "    </tr>\n",
       "    <tr>\n",
       "      <th>1</th>\n",
       "      <td>Monica &amp; Calvin</td>\n",
       "      <td>Lower West Side, Chicago, IL, 60608</td>\n",
       "      <td>https://www.rover.com/members/monica-calvin-m-...</td>\n",
       "    </tr>\n",
       "    <tr>\n",
       "      <th>2</th>\n",
       "      <td>Alyssa</td>\n",
       "      <td>New City, Chicago, IL, 60609</td>\n",
       "      <td>https://www.rover.com/members/alyssa-l-pet-lov...</td>\n",
       "    </tr>\n",
       "    <tr>\n",
       "      <th>3</th>\n",
       "      <td>Molly</td>\n",
       "      <td>Lower West Side, Chicago, IL, 60608</td>\n",
       "      <td>https://www.rover.com/members/molly-c-247-dog-...</td>\n",
       "    </tr>\n",
       "    <tr>\n",
       "      <th>4</th>\n",
       "      <td>Annie</td>\n",
       "      <td>Armour Square, Chicago, IL, 60616</td>\n",
       "      <td>https://www.rover.com/members/annie-x-your-1st...</td>\n",
       "    </tr>\n",
       "  </tbody>\n",
       "</table>\n",
       "</div>"
      ],
      "text/plain": [
       "              Name                             Location  \\\n",
       "0        Christian  Lower West Side, Chicago, IL, 60608   \n",
       "1  Monica & Calvin  Lower West Side, Chicago, IL, 60608   \n",
       "2           Alyssa         New City, Chicago, IL, 60609   \n",
       "3            Molly  Lower West Side, Chicago, IL, 60608   \n",
       "4            Annie    Armour Square, Chicago, IL, 60616   \n",
       "\n",
       "                                                Link  \n",
       "0  https://www.rover.com/members/christian-b-id-l...  \n",
       "1  https://www.rover.com/members/monica-calvin-m-...  \n",
       "2  https://www.rover.com/members/alyssa-l-pet-lov...  \n",
       "3  https://www.rover.com/members/molly-c-247-dog-...  \n",
       "4  https://www.rover.com/members/annie-x-your-1st...  "
      ]
     },
     "execution_count": 210,
     "metadata": {},
     "output_type": "execute_result"
    }
   ],
   "source": [
    "df = pd.read_csv('sitters.csv')\n",
    "df.head()"
   ]
  },
  {
   "cell_type": "code",
   "execution_count": 215,
   "metadata": {
    "ExecuteTime": {
     "end_time": "2021-01-10T06:41:49.718833Z",
     "start_time": "2021-01-10T06:41:44.993685Z"
    }
   },
   "outputs": [],
   "source": [
    "link = flat_profile_links[0]\n",
    "driver = webdriver.Chrome(chromedriver)\n",
    "driver.get(link)"
   ]
  },
  {
   "cell_type": "code",
   "execution_count": 275,
   "metadata": {
    "ExecuteTime": {
     "end_time": "2021-01-10T07:06:59.431356Z",
     "start_time": "2021-01-10T07:06:59.351082Z"
    }
   },
   "outputs": [],
   "source": [
    "soup = BeautifulSoup(driver.page_source, 'lxml')\n",
    "service_card = soup.find('div', class_='services-card')"
   ]
  },
  {
   "cell_type": "code",
   "execution_count": 276,
   "metadata": {
    "ExecuteTime": {
     "end_time": "2021-01-10T07:07:00.739046Z",
     "start_time": "2021-01-10T07:07:00.735279Z"
    }
   },
   "outputs": [],
   "source": [
    "services = []\n",
    "service_list = service_card.find_all('h3', class_='h5 margin-v-x0')\n",
    "for service in service_list:\n",
    "    services.append(service.text.strip())"
   ]
  },
  {
   "cell_type": "code",
   "execution_count": 295,
   "metadata": {
    "ExecuteTime": {
     "end_time": "2021-01-10T07:11:47.693888Z",
     "start_time": "2021-01-10T07:11:47.689053Z"
    }
   },
   "outputs": [],
   "source": [
    "prices = []\n",
    "price_list = service_card.find_all('div', class_='h2 margin-v-x0')\n",
    "for price in price_list:\n",
    "    prices.append(int(price.text.strip().replace('$', '')))"
   ]
  },
  {
   "cell_type": "code",
   "execution_count": 306,
   "metadata": {
    "ExecuteTime": {
     "end_time": "2021-01-11T02:44:52.227823Z",
     "start_time": "2021-01-11T02:44:52.221859Z"
    }
   },
   "outputs": [
    {
     "data": {
      "text/plain": [
       "'Christian B.'"
      ]
     },
     "execution_count": 306,
     "metadata": {},
     "output_type": "execute_result"
    }
   ],
   "source": [
    "name_card = soup.find('h1', class_='provider-name media-heading nomargin')\n",
    "name = name_card.text.strip()"
   ]
  },
  {
   "cell_type": "code",
   "execution_count": 311,
   "metadata": {
    "ExecuteTime": {
     "end_time": "2021-01-11T03:06:40.024745Z",
     "start_time": "2021-01-11T03:06:40.019118Z"
    }
   },
   "outputs": [],
   "source": [
    "def get_name(name_card):\n",
    "    return name_card.text.strip()\n",
    "\n",
    "#get price per service in form of list of tuples\n",
    "def get_service_prices(service_card):\n",
    "    service_prices = []\n",
    "    \n",
    "    service_list = service_card.find_all('h3', class_='h5 margin-v-x0')\n",
    "    price_list = service_card.find_all('div', class_='h2 margin-v-x0')\n",
    "    \n",
    "    for service, price in zip(service_list, price_list):\n",
    "        service_str = service.text.strip()\n",
    "        price_int = int(price.text.strip().replace('$', ''))\n",
    "        service_prices.append((service_str, price_int))\n",
    "    \n",
    "    return service_prices\n",
    "     \n",
    "#convert list of tuples into dictionary \n",
    "def Convert(tup, di): \n",
    "    di = dict(tup) \n",
    "    return di  "
   ]
  },
  {
   "cell_type": "code",
   "execution_count": 314,
   "metadata": {
    "ExecuteTime": {
     "end_time": "2021-01-11T03:11:27.553038Z",
     "start_time": "2021-01-11T03:11:04.354884Z"
    }
   },
   "outputs": [],
   "source": [
    "import json\n",
    "sitter_service_prices = []\n",
    "\n",
    "for link in flat_profile_links:\n",
    "    driver = webdriver.Chrome(chromedriver)\n",
    "    driver.get(link)\n",
    "    soup = BeautifulSoup(driver.page_source, 'lxml')\n",
    "    \n",
    "    #name\n",
    "    name_card = soup.find('h1', class_='provider-name media-heading nomargin')\n",
    "    name = get_name(name_card)\n",
    "    \n",
    "    #service_prices dict\n",
    "    service_card = soup.find('div', class_='services-card')\n",
    "    service_prices_list = get_service_prices(service_card)\n",
    "    dictionary = {}\n",
    "    service_prices = Convert(service_prices_list, dictionary)\n",
    "    \n",
    "    profile = {'Name': name, 'Services': service_prices}\n",
    "    sitter_service_prices.append(profile)\n",
    "    \n",
    "    driver.close()\n",
    "    \n",
    "with open('service_prices.json', 'w') as fout:\n",
    "    json.dump(sitter_service_prices, fout)"
   ]
  },
  {
   "cell_type": "code",
   "execution_count": 343,
   "metadata": {
    "ExecuteTime": {
     "end_time": "2021-01-11T04:50:28.292570Z",
     "start_time": "2021-01-11T04:50:28.258470Z"
    }
   },
   "outputs": [],
   "source": [
    "df_1 = pd.read_json('service_prices.json')\n",
    "service_df = pd.json_normalize(df_1.Services)"
   ]
  },
  {
   "cell_type": "code",
   "execution_count": 319,
   "metadata": {
    "ExecuteTime": {
     "end_time": "2021-01-11T03:27:49.507859Z",
     "start_time": "2021-01-11T03:27:49.493318Z"
    }
   },
   "outputs": [],
   "source": [
    "import csv\n",
    "profile_links = []\n",
    "with open('sitters.csv', 'r') as csv_file:\n",
    "    csv_reader = csv.DictReader(csv_file, delimiter=',')\n",
    "    for row in csv_reader:\n",
    "        profile_links.append(row['Link']) "
   ]
  },
  {
   "cell_type": "code",
   "execution_count": 321,
   "metadata": {
    "ExecuteTime": {
     "end_time": "2021-01-11T03:28:01.270223Z",
     "start_time": "2021-01-11T03:28:01.265517Z"
    }
   },
   "outputs": [
    {
     "data": {
      "text/plain": [
       "1000"
      ]
     },
     "execution_count": 321,
     "metadata": {},
     "output_type": "execute_result"
    }
   ],
   "source": [
    "len(profile_links)"
   ]
  },
  {
   "cell_type": "code",
   "execution_count": 337,
   "metadata": {
    "ExecuteTime": {
     "end_time": "2021-01-11T04:47:56.809244Z",
     "start_time": "2021-01-11T04:47:56.787723Z"
    }
   },
   "outputs": [
    {
     "data": {
      "text/plain": [
       "0            Christian B.\n",
       "1      Monica & Calvin M.\n",
       "2               Alyssa L.\n",
       "3                Molly C.\n",
       "4                Annie X.\n",
       "              ...        \n",
       "995            Rebecca B.\n",
       "996             Alexis M.\n",
       "997            Jessica G.\n",
       "998              saade h.\n",
       "999            Rebecca R.\n",
       "Name: Name, Length: 1000, dtype: object"
      ]
     },
     "execution_count": 337,
     "metadata": {},
     "output_type": "execute_result"
    }
   ],
   "source": [
    "df_1.Name"
   ]
  },
  {
   "cell_type": "code",
   "execution_count": 344,
   "metadata": {
    "ExecuteTime": {
     "end_time": "2021-01-11T04:50:36.532413Z",
     "start_time": "2021-01-11T04:50:36.519448Z"
    }
   },
   "outputs": [],
   "source": [
    "service_df_final = pd.concat([df_1[['Name']], service_df], axis=1)\n",
    "service_df_final.to_csv('service_prices.csv', index=False)"
   ]
  },
  {
   "cell_type": "code",
   "execution_count": 345,
   "metadata": {
    "ExecuteTime": {
     "end_time": "2021-01-11T04:50:39.631061Z",
     "start_time": "2021-01-11T04:50:39.609323Z"
    }
   },
   "outputs": [
    {
     "data": {
      "text/html": [
       "<div>\n",
       "<style scoped>\n",
       "    .dataframe tbody tr th:only-of-type {\n",
       "        vertical-align: middle;\n",
       "    }\n",
       "\n",
       "    .dataframe tbody tr th {\n",
       "        vertical-align: top;\n",
       "    }\n",
       "\n",
       "    .dataframe thead th {\n",
       "        text-align: right;\n",
       "    }\n",
       "</style>\n",
       "<table border=\"1\" class=\"dataframe\">\n",
       "  <thead>\n",
       "    <tr style=\"text-align: right;\">\n",
       "      <th></th>\n",
       "      <th>Name</th>\n",
       "      <th>House Sitting</th>\n",
       "      <th>Drop-In Visits</th>\n",
       "      <th>Dog Walking</th>\n",
       "      <th>Boarding</th>\n",
       "      <th>Doggy Day Care</th>\n",
       "    </tr>\n",
       "  </thead>\n",
       "  <tbody>\n",
       "    <tr>\n",
       "      <th>0</th>\n",
       "      <td>Christian B.</td>\n",
       "      <td>30.0</td>\n",
       "      <td>16.0</td>\n",
       "      <td>20</td>\n",
       "      <td>NaN</td>\n",
       "      <td>NaN</td>\n",
       "    </tr>\n",
       "    <tr>\n",
       "      <th>1</th>\n",
       "      <td>Monica &amp; Calvin M.</td>\n",
       "      <td>NaN</td>\n",
       "      <td>20.0</td>\n",
       "      <td>20</td>\n",
       "      <td>45.0</td>\n",
       "      <td>40.0</td>\n",
       "    </tr>\n",
       "    <tr>\n",
       "      <th>2</th>\n",
       "      <td>Alyssa L.</td>\n",
       "      <td>NaN</td>\n",
       "      <td>20.0</td>\n",
       "      <td>20</td>\n",
       "      <td>NaN</td>\n",
       "      <td>NaN</td>\n",
       "    </tr>\n",
       "    <tr>\n",
       "      <th>3</th>\n",
       "      <td>Molly C.</td>\n",
       "      <td>NaN</td>\n",
       "      <td>20.0</td>\n",
       "      <td>18</td>\n",
       "      <td>40.0</td>\n",
       "      <td>33.0</td>\n",
       "    </tr>\n",
       "    <tr>\n",
       "      <th>4</th>\n",
       "      <td>Annie X.</td>\n",
       "      <td>65.0</td>\n",
       "      <td>25.0</td>\n",
       "      <td>29</td>\n",
       "      <td>NaN</td>\n",
       "      <td>NaN</td>\n",
       "    </tr>\n",
       "    <tr>\n",
       "      <th>...</th>\n",
       "      <td>...</td>\n",
       "      <td>...</td>\n",
       "      <td>...</td>\n",
       "      <td>...</td>\n",
       "      <td>...</td>\n",
       "      <td>...</td>\n",
       "    </tr>\n",
       "    <tr>\n",
       "      <th>995</th>\n",
       "      <td>Rebecca B.</td>\n",
       "      <td>20.0</td>\n",
       "      <td>10.0</td>\n",
       "      <td>15</td>\n",
       "      <td>NaN</td>\n",
       "      <td>NaN</td>\n",
       "    </tr>\n",
       "    <tr>\n",
       "      <th>996</th>\n",
       "      <td>Alexis M.</td>\n",
       "      <td>40.0</td>\n",
       "      <td>20.0</td>\n",
       "      <td>20</td>\n",
       "      <td>NaN</td>\n",
       "      <td>NaN</td>\n",
       "    </tr>\n",
       "    <tr>\n",
       "      <th>997</th>\n",
       "      <td>Jessica G.</td>\n",
       "      <td>50.0</td>\n",
       "      <td>20.0</td>\n",
       "      <td>20</td>\n",
       "      <td>NaN</td>\n",
       "      <td>40.0</td>\n",
       "    </tr>\n",
       "    <tr>\n",
       "      <th>998</th>\n",
       "      <td>saade h.</td>\n",
       "      <td>65.0</td>\n",
       "      <td>10.0</td>\n",
       "      <td>15</td>\n",
       "      <td>65.0</td>\n",
       "      <td>20.0</td>\n",
       "    </tr>\n",
       "    <tr>\n",
       "      <th>999</th>\n",
       "      <td>Rebecca R.</td>\n",
       "      <td>30.0</td>\n",
       "      <td>18.0</td>\n",
       "      <td>14</td>\n",
       "      <td>NaN</td>\n",
       "      <td>NaN</td>\n",
       "    </tr>\n",
       "  </tbody>\n",
       "</table>\n",
       "<p>1000 rows × 6 columns</p>\n",
       "</div>"
      ],
      "text/plain": [
       "                   Name  House Sitting  Drop-In Visits  Dog Walking  Boarding  \\\n",
       "0          Christian B.           30.0            16.0           20       NaN   \n",
       "1    Monica & Calvin M.            NaN            20.0           20      45.0   \n",
       "2             Alyssa L.            NaN            20.0           20       NaN   \n",
       "3              Molly C.            NaN            20.0           18      40.0   \n",
       "4              Annie X.           65.0            25.0           29       NaN   \n",
       "..                  ...            ...             ...          ...       ...   \n",
       "995          Rebecca B.           20.0            10.0           15       NaN   \n",
       "996           Alexis M.           40.0            20.0           20       NaN   \n",
       "997          Jessica G.           50.0            20.0           20       NaN   \n",
       "998            saade h.           65.0            10.0           15      65.0   \n",
       "999          Rebecca R.           30.0            18.0           14       NaN   \n",
       "\n",
       "     Doggy Day Care  \n",
       "0               NaN  \n",
       "1              40.0  \n",
       "2               NaN  \n",
       "3              33.0  \n",
       "4               NaN  \n",
       "..              ...  \n",
       "995             NaN  \n",
       "996             NaN  \n",
       "997            40.0  \n",
       "998            20.0  \n",
       "999             NaN  \n",
       "\n",
       "[1000 rows x 6 columns]"
      ]
     },
     "execution_count": 345,
     "metadata": {},
     "output_type": "execute_result"
    }
   ],
   "source": [
    "service_df_final"
   ]
  },
  {
   "cell_type": "code",
   "execution_count": 335,
   "metadata": {
    "ExecuteTime": {
     "end_time": "2021-01-11T04:23:35.598895Z",
     "start_time": "2021-01-11T04:23:35.581309Z"
    }
   },
   "outputs": [],
   "source": [
    "# code to save service price data into csv directly from scraping\n",
    "try:\n",
    "    housesit_p = profile['Services']['House Sitting']\n",
    "except:\n",
    "    houseit_p = None\n",
    "\n",
    "try:\n",
    "    dropin_p = profile['Services']['Drop-In Visits']\n",
    "except:\n",
    "    dropin_p = None\n",
    "    \n",
    "try:\n",
    "    walk_p = profile['Services']['Dog Walking Visits']\n",
    "except:\n",
    "    walk_p = None\n",
    "    \n",
    "try:\n",
    "    boarding_p = profile['Services']['Boarding Visits']\n",
    "except:\n",
    "    boarding_p = None\n",
    "    \n",
    "try:\n",
    "    daycare_p = profile['Services']['Doggy Day Care']\n",
    "except:\n",
    "    daycare_p = None\n",
    "    \n",
    "services = [name, housesit_p, dropin_p, walk_p, boarding_p, daycare_p]\n",
    "\n",
    "with open('sitter_prices.csv', 'w') as csv_file:\n",
    "    writer = csv.writer(csv_file)\n",
    "    writer.writerow(['Name', 'House Sitting', 'Drop-In Visits', 'Dog Walking', 'Boarding', 'Doggy Day Care'])\n",
    "    for row in rows:\n",
    "        writer.writerow(row)"
   ]
  },
  {
   "cell_type": "code",
   "execution_count": null,
   "metadata": {},
   "outputs": [],
   "source": []
  }
 ],
 "metadata": {
  "kernelspec": {
   "display_name": "Python [conda env:metis] *",
   "language": "python",
   "name": "conda-env-metis-py"
  },
  "language_info": {
   "codemirror_mode": {
    "name": "ipython",
    "version": 3
   },
   "file_extension": ".py",
   "mimetype": "text/x-python",
   "name": "python",
   "nbconvert_exporter": "python",
   "pygments_lexer": "ipython3",
   "version": "3.8.3"
  },
  "toc": {
   "base_numbering": 1,
   "nav_menu": {},
   "number_sections": true,
   "sideBar": true,
   "skip_h1_title": false,
   "title_cell": "Table of Contents",
   "title_sidebar": "Contents",
   "toc_cell": false,
   "toc_position": {},
   "toc_section_display": true,
   "toc_window_display": false
  }
 },
 "nbformat": 4,
 "nbformat_minor": 4
}
