{
 "cells": [
  {
   "cell_type": "code",
   "execution_count": 1,
   "metadata": {
    "ExecuteTime": {
     "end_time": "2021-01-10T02:09:38.422922Z",
     "start_time": "2021-01-10T02:09:36.909621Z"
    }
   },
   "outputs": [],
   "source": [
    "import matplotlib.pyplot as plt\n",
    "import pandas as pd\n",
    "import numpy as np\n",
    "from selenium import webdriver\n",
    "from selenium.webdriver.common.keys import Keys\n",
    "from bs4 import BeautifulSoup\n",
    "import requests\n",
    "import time, os"
   ]
  },
  {
   "cell_type": "code",
   "execution_count": 2,
   "metadata": {
    "ExecuteTime": {
     "end_time": "2021-01-10T02:09:39.137083Z",
     "start_time": "2021-01-10T02:09:39.133926Z"
    }
   },
   "outputs": [],
   "source": [
    "chromedriver = \"/Applications/chromedriver\" # path to the chromedriver executable\n",
    "os.environ[\"webdriver.chrome.driver\"] = chromedriver"
   ]
  },
  {
   "cell_type": "code",
   "execution_count": 193,
   "metadata": {
    "ExecuteTime": {
     "end_time": "2021-01-10T06:13:02.483731Z",
     "start_time": "2021-01-10T06:12:55.893436Z"
    }
   },
   "outputs": [],
   "source": [
    "url = \"https://www.rover.com/search/?alternate_results=true&override_check=true&accepts_only_one_client=false&apse=false&bathing_grooming=false&cat_care=false&centerlat=41.804000&centerlng=-87.707000&dogs_allowed_on_bed=false&dogs_allowed_on_furniture=false&frequency=onetime&fulltime_availability=true&giant_dogs=false&has_fenced_yard=false&has_house=false&has_no_children=false&is_premier=false&knows_first_aid=false&large_dogs=false&location=60632&location_accuracy=5161&maxprice=150&medium_dogs=false&minprice=0&no_caged_pets=false&no_cats=false&no_children_0_5=false&no_children_6_12=false&non_smoking=false&page=1&person_does_not_have_dogs=false&pet=&petsitusa=false&pet_type=dog&puppy=false&service_type=dog-walking&small_dogs=false&volunteer_donor=false&search_score_debug=false&injected_medication=false&special_needs=false&oral_medication=false&more_than_one_client=false&uncrated_dogs=false&unspayed_females=false&non_neutered_males=false&females_in_heat=false&unactivated_provider=false&premier_matching=false&premier_or_rover_match=false&is_member_of_sitter_to_sitter=false&is_member_of_sitter_to_sitter_plus=false&location_type=geoip&midday_availability=true\"\n",
    "driver = webdriver.Chrome(chromedriver)\n",
    "driver.get(url)\n",
    "time.sleep(0.5)"
   ]
  },
  {
   "cell_type": "code",
   "execution_count": 194,
   "metadata": {
    "ExecuteTime": {
     "end_time": "2021-01-10T06:13:10.991819Z",
     "start_time": "2021-01-10T06:13:10.790403Z"
    }
   },
   "outputs": [],
   "source": [
    "driver.find_element_by_xpath('//*[@id=\"base-content\"]/div[1]/div/div/div[2]/div[3]/button').click()\n",
    "location_box = driver.find_element_by_xpath('//*[@id=\"base-content\"]/div[1]/div/div/div[2]/div[3]/button').click()"
   ]
  },
  {
   "cell_type": "code",
   "execution_count": 195,
   "metadata": {
    "ExecuteTime": {
     "end_time": "2021-01-10T06:14:23.224784Z",
     "start_time": "2021-01-10T06:13:13.743907Z"
    }
   },
   "outputs": [],
   "source": [
    "profile_links = []\n",
    "names = []\n",
    "locations = []\n",
    "\n",
    "for page in range(50):\n",
    "    soup = BeautifulSoup(driver.page_source)\n",
    "    #getting profile links\n",
    "    result_cards = soup.find_all('a', class_=\"SearchResultCard__MemberProfileAnchor-sc-69cmvm-0 jmSVjX\")\n",
    "    profile_links.append([card.get('href') for card in result_cards])\n",
    "    #getting names\n",
    "    name_cards = soup.find_all('a', class_='NameRow__NameLink-w16h4v-2 ddRlnv')\n",
    "    names.append([card.text for card in name_cards])\n",
    "    #getting location info\n",
    "    info_cols = soup.find_all('span', class_=\"InfoColumn__Location-sc-9o301b-2 gjcFLl\")\n",
    "    locations.append([card.text for card in info_cols])\n",
    "    time.sleep(0.5)\n",
    "    #click next page\n",
    "    try:\n",
    "        driver.find_element_by_xpath('//*[@id=\"base-content\"]/div[2]/div/ul/li[6]').click()\n",
    "    except:\n",
    "        pass\n",
    "    try:\n",
    "        driver.find_element_by_xpath('//*[@id=\"base-content\"]/div[2]/div/ul/li[5]').click()\n",
    "    except:\n",
    "        pass\n",
    "    time.sleep(0.5)"
   ]
  },
  {
   "cell_type": "code",
   "execution_count": 197,
   "metadata": {
    "ExecuteTime": {
     "end_time": "2021-01-10T06:14:57.724371Z",
     "start_time": "2021-01-10T06:14:57.719807Z"
    }
   },
   "outputs": [
    {
     "data": {
      "text/plain": [
       "50"
      ]
     },
     "execution_count": 197,
     "metadata": {},
     "output_type": "execute_result"
    }
   ],
   "source": [
    "len(profile_links)"
   ]
  },
  {
   "cell_type": "code",
   "execution_count": 201,
   "metadata": {
    "ExecuteTime": {
     "end_time": "2021-01-10T06:22:41.222553Z",
     "start_time": "2021-01-10T06:22:41.215152Z"
    }
   },
   "outputs": [],
   "source": [
    "flat_profile_links = [link for sublist in profile_links for link in sublist]\n",
    "flat_names = [name for sublist in names for name in sublist]\n",
    "flat_locations = [location for sublist in locations for location in sublist]"
   ]
  },
  {
   "cell_type": "code",
   "execution_count": 210,
   "metadata": {
    "ExecuteTime": {
     "end_time": "2021-01-10T06:39:39.505462Z",
     "start_time": "2021-01-10T06:39:39.478548Z"
    }
   },
   "outputs": [
    {
     "data": {
      "text/html": [
       "<div>\n",
       "<style scoped>\n",
       "    .dataframe tbody tr th:only-of-type {\n",
       "        vertical-align: middle;\n",
       "    }\n",
       "\n",
       "    .dataframe tbody tr th {\n",
       "        vertical-align: top;\n",
       "    }\n",
       "\n",
       "    .dataframe thead th {\n",
       "        text-align: right;\n",
       "    }\n",
       "</style>\n",
       "<table border=\"1\" class=\"dataframe\">\n",
       "  <thead>\n",
       "    <tr style=\"text-align: right;\">\n",
       "      <th></th>\n",
       "      <th>Name</th>\n",
       "      <th>Location</th>\n",
       "      <th>Link</th>\n",
       "    </tr>\n",
       "  </thead>\n",
       "  <tbody>\n",
       "    <tr>\n",
       "      <th>0</th>\n",
       "      <td>Christian</td>\n",
       "      <td>Lower West Side, Chicago, IL, 60608</td>\n",
       "      <td>https://www.rover.com/members/christian-b-id-l...</td>\n",
       "    </tr>\n",
       "    <tr>\n",
       "      <th>1</th>\n",
       "      <td>Monica &amp; Calvin</td>\n",
       "      <td>Lower West Side, Chicago, IL, 60608</td>\n",
       "      <td>https://www.rover.com/members/monica-calvin-m-...</td>\n",
       "    </tr>\n",
       "    <tr>\n",
       "      <th>2</th>\n",
       "      <td>Alyssa</td>\n",
       "      <td>New City, Chicago, IL, 60609</td>\n",
       "      <td>https://www.rover.com/members/alyssa-l-pet-lov...</td>\n",
       "    </tr>\n",
       "    <tr>\n",
       "      <th>3</th>\n",
       "      <td>Molly</td>\n",
       "      <td>Lower West Side, Chicago, IL, 60608</td>\n",
       "      <td>https://www.rover.com/members/molly-c-247-dog-...</td>\n",
       "    </tr>\n",
       "    <tr>\n",
       "      <th>4</th>\n",
       "      <td>Annie</td>\n",
       "      <td>Armour Square, Chicago, IL, 60616</td>\n",
       "      <td>https://www.rover.com/members/annie-x-your-1st...</td>\n",
       "    </tr>\n",
       "  </tbody>\n",
       "</table>\n",
       "</div>"
      ],
      "text/plain": [
       "              Name                             Location  \\\n",
       "0        Christian  Lower West Side, Chicago, IL, 60608   \n",
       "1  Monica & Calvin  Lower West Side, Chicago, IL, 60608   \n",
       "2           Alyssa         New City, Chicago, IL, 60609   \n",
       "3            Molly  Lower West Side, Chicago, IL, 60608   \n",
       "4            Annie    Armour Square, Chicago, IL, 60616   \n",
       "\n",
       "                                                Link  \n",
       "0  https://www.rover.com/members/christian-b-id-l...  \n",
       "1  https://www.rover.com/members/monica-calvin-m-...  \n",
       "2  https://www.rover.com/members/alyssa-l-pet-lov...  \n",
       "3  https://www.rover.com/members/molly-c-247-dog-...  \n",
       "4  https://www.rover.com/members/annie-x-your-1st...  "
      ]
     },
     "execution_count": 210,
     "metadata": {},
     "output_type": "execute_result"
    }
   ],
   "source": [
    "df = pd.read_csv('sitters.csv')\n",
    "df.head()"
   ]
  },
  {
   "cell_type": "code",
   "execution_count": 215,
   "metadata": {
    "ExecuteTime": {
     "end_time": "2021-01-10T06:41:49.718833Z",
     "start_time": "2021-01-10T06:41:44.993685Z"
    }
   },
   "outputs": [],
   "source": [
    "link = flat_profile_links[0]\n",
    "driver = webdriver.Chrome(chromedriver)\n",
    "driver.get(link)"
   ]
  },
  {
   "cell_type": "code",
   "execution_count": 216,
   "metadata": {
    "ExecuteTime": {
     "end_time": "2021-01-10T06:43:39.048949Z",
     "start_time": "2021-01-10T06:43:38.939474Z"
    }
   },
   "outputs": [],
   "source": [
    "driver.find_element_by_xpath('//*[@id=\"base-content\"]/div[4]/div/div/div[1]/div/div/div[3]/button').click()"
   ]
  },
  {
   "cell_type": "code",
   "execution_count": 218,
   "metadata": {
    "ExecuteTime": {
     "end_time": "2021-01-10T06:46:48.950699Z",
     "start_time": "2021-01-10T06:46:48.942300Z"
    },
    "scrolled": true
   },
   "outputs": [
    {
     "data": {
      "text/plain": [
       "['https://www.rover.com/members/christian-b-id-love-to-watch-your-furry-friend/?service_type=dog-walking&frequency=onetime&pet_type=dog',\n",
       " 'https://www.rover.com/members/monica-calvin-m-dog-loving-couple-in-the-south-loop/?service_type=dog-walking&frequency=onetime&pet_type=dog',\n",
       " 'https://www.rover.com/members/alyssa-l-pet-lover-looking-to-help-in-chicago/?service_type=dog-walking&frequency=onetime&pet_type=dog',\n",
       " 'https://www.rover.com/members/molly-c-247-dog-lover-and-caregiver/?service_type=dog-walking&frequency=onetime&pet_type=dog',\n",
       " 'https://www.rover.com/members/annie-x-your-1st-kittydoggy-visit-free/?service_type=dog-walking&frequency=onetime&pet_type=dog']"
      ]
     },
     "execution_count": 218,
     "metadata": {},
     "output_type": "execute_result"
    }
   ],
   "source": [
    "flat_profile_links[:5]"
   ]
  },
  {
   "cell_type": "code",
   "execution_count": 254,
   "metadata": {
    "ExecuteTime": {
     "end_time": "2021-01-10T07:00:39.297437Z",
     "start_time": "2021-01-10T07:00:39.185755Z"
    }
   },
   "outputs": [],
   "source": [
    "soup = BeautifulSoup(driver.page_source, 'lxml')\n",
    "temp = soup.find_all('div', class_='service-rates-card')"
   ]
  },
  {
   "cell_type": "code",
   "execution_count": 250,
   "metadata": {
    "ExecuteTime": {
     "end_time": "2021-01-10T06:58:11.781607Z",
     "start_time": "2021-01-10T06:58:11.763337Z"
    }
   },
   "outputs": [],
   "source": [
    "t = driver.find_elements_by_xpath('/html/body/div[6]/div/div/div/div/div[2]/div/div/div[1]/div[2]/div[1]/div[1]')"
   ]
  },
  {
   "cell_type": "code",
   "execution_count": 253,
   "metadata": {
    "ExecuteTime": {
     "end_time": "2021-01-10T06:58:26.860487Z",
     "start_time": "2021-01-10T06:58:26.855726Z"
    }
   },
   "outputs": [
    {
     "data": {
      "text/plain": [
       "[<selenium.webdriver.remote.webelement.WebElement (session=\"e45115665be3000756dc5e674c5855a6\", element=\"ed84881b-82c9-4d2e-b3d9-ad872a6d0e0f\")>]"
      ]
     },
     "execution_count": 253,
     "metadata": {},
     "output_type": "execute_result"
    }
   ],
   "source": [
    "t"
   ]
  },
  {
   "cell_type": "code",
   "execution_count": null,
   "metadata": {},
   "outputs": [],
   "source": []
  }
 ],
 "metadata": {
  "kernelspec": {
   "display_name": "Python [conda env:metis] *",
   "language": "python",
   "name": "conda-env-metis-py"
  },
  "language_info": {
   "codemirror_mode": {
    "name": "ipython",
    "version": 3
   },
   "file_extension": ".py",
   "mimetype": "text/x-python",
   "name": "python",
   "nbconvert_exporter": "python",
   "pygments_lexer": "ipython3",
   "version": "3.8.3"
  },
  "toc": {
   "base_numbering": 1,
   "nav_menu": {},
   "number_sections": true,
   "sideBar": true,
   "skip_h1_title": false,
   "title_cell": "Table of Contents",
   "title_sidebar": "Contents",
   "toc_cell": false,
   "toc_position": {},
   "toc_section_display": true,
   "toc_window_display": false
  }
 },
 "nbformat": 4,
 "nbformat_minor": 4
}
